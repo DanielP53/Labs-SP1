{
  "nbformat": 4,
  "nbformat_minor": 0,
  "metadata": {
    "colab": {
      "name": "Laboratorio 1",
      "provenance": [],
      "collapsed_sections": [],
      "authorship_tag": "ABX9TyPHP/WOMDStgyo05eZrjf2n",
      "include_colab_link": true
    },
    "kernelspec": {
      "name": "python3",
      "display_name": "Python 3"
    }
  },
  "cells": [
    {
      "cell_type": "markdown",
      "metadata": {
        "id": "view-in-github",
        "colab_type": "text"
      },
      "source": [
        "<a href=\"https://colab.research.google.com/github/DanielP53/Labs-SP1/blob/master/Laboratorio_1.ipynb\" target=\"_parent\"><img src=\"https://colab.research.google.com/assets/colab-badge.svg\" alt=\"Open In Colab\"/></a>"
      ]
    },
    {
      "cell_type": "code",
      "metadata": {
        "id": "2r2cPT1_ksls",
        "colab_type": "code",
        "colab": {}
      },
      "source": [
        "#indicamos que se usara la version 2 de Tensorflow y se importa\n",
        "%tensorflow_version 2.x\n",
        "import tensorflow as tf\n",
        "#importamos el set de datos desde la libreria de Keras\n",
        "from tensorflow.keras.datasets import fashion_mnist\n",
        "from tensorflow.keras.models import Sequential\n",
        "from tensorflow.keras.layers import Dense, Flatten\n",
        "\n",
        "#librerias de ayuda para el manejo de numeros e imagenes\n",
        "import numpy as np\n",
        "import PIL.Image as Image\n",
        "import matplotlib.pylab as plt\n",
        "\n",
        "#utilizado para el darkmode\n",
        "plt.rc_context({'xtick.color':'w','ytick.color':'w','text.color':'w','axes.labelcolor':'w'})\n",
        "\n",
        "seed=1234\n",
        "np.random.seed(seed)\n",
        "tf.random.set_seed(seed)"
      ],
      "execution_count": 0,
      "outputs": []
    },
    {
      "cell_type": "markdown",
      "metadata": {
        "id": "yImfAz0FnmsB",
        "colab_type": "text"
      },
      "source": [
        ""
      ]
    },
    {
      "cell_type": "code",
      "metadata": {
        "id": "9fzz754env9G",
        "colab_type": "code",
        "colab": {
          "base_uri": "https://localhost:8080/",
          "height": 282
        },
        "outputId": "cbda1eaa-d34c-4018-8d89-06fba6f20064"
      },
      "source": [
        "#cargamos el set de datos\n",
        "(train_images,train_labels),(test_images,testlabels)=fashion_mnist.load_data()\n",
        "print('train_images shape:',train_images.shape)\n",
        "#Creamos las clases\n",
        "class_names=['T-shirt/Top','Trouser','Pullover','Dress','Coat','Sandal','Shirt','Sneaker','Bag','Ankle boot']\n",
        "plt.imshow(train_images[0])\n",
        "plt.show()\n"
      ],
      "execution_count": 15,
      "outputs": [
        {
          "output_type": "stream",
          "text": [
            "train_images shape: (60000, 28, 28)\n"
          ],
          "name": "stdout"
        },
        {
          "output_type": "display_data",
          "data": {
            "image/png": "[encoded data removed]",
            "text/plain": [
              "<Figure size 432x288 with 1 Axes>"
            ]
          },
          "metadata": {
            "tags": []
          }
        }
      ]
    },
    {
      "cell_type": "code",
      "metadata": {
        "id": "PF7pHhnp0coR",
        "colab_type": "code",
        "colab": {
          "base_uri": "https://localhost:8080/",
          "height": 282
        },
        "outputId": "22b6dafc-4f17-48b2-881f-63f41079f4a9"
      },
      "source": [
        "train_images= train_images/255.0\n",
        "test_images= test_images/255.0\n",
        "#por que hay que normalizar y estandarizar?\n",
        "#en la documentacion de tensor no lo convierten a escala de grises... solo lo imprimen como escala de grises.. por que?\n",
        "#por que se dividia en 255\n",
        "plt.imshow(train_images[0],cmap=plt.cm.binary)"
      ],
      "execution_count": 18,
      "outputs": [
        {
          "output_type": "execute_result",
          "data": {
            "text/plain": [
              "<matplotlib.image.AxesImage at 0x7f19b3ea5898>"
            ]
          },
          "metadata": {
            "tags": []
          },
          "execution_count": 18
        },
        {
          "output_type": "display_data",
          "data": {
            "image/png": "[encoded data removed]",
            "text/plain": [
              "<Figure size 432x288 with 1 Axes>"
            ]
          },
          "metadata": {
            "tags": []
          }
        }
      ]
    }
  ]
}