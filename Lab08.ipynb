{
  "nbformat": 4,
  "nbformat_minor": 0,
  "metadata": {
    "colab": {
      "name": "Lab07.ipynb",
      "provenance": [],
      "collapsed_sections": [],
      "include_colab_link": true
    },
    "kernelspec": {
      "name": "python3",
      "display_name": "Python 3"
    }
  },
  "cells": [
    {
      "cell_type": "markdown",
      "metadata": {
        "id": "view-in-github",
        "colab_type": "text"
      },
      "source": [
        "<a href=\"https://colab.research.google.com/github/DanielP53/Labs-SP1/blob/master/Lab08.ipynb\" target=\"_parent\"><img src=\"https://colab.research.google.com/assets/colab-badge.svg\" alt=\"Open In Colab\"/></a>"
      ]
    },
    {
      "cell_type": "code",
      "metadata": {
        "id": "sRhsFZ9v7scS",
        "colab_type": "code",
        "colab": {}
      },
      "source": [
        "from __future__ import absolute_import, division, print_function, unicode_literals\n",
        "\n",
        "# Install TensorFlow\n",
        "try:\n",
        "  # %tensorflow_version only works in Colab.\n",
        "  %tensorflow_version 2.x\n",
        "except Exception:\n",
        "  pass\n",
        "\n",
        "import tensorflow as tf"
      ],
      "execution_count": 0,
      "outputs": []
    },
    {
      "cell_type": "code",
      "metadata": {
        "id": "7roVcpI09zk6",
        "colab_type": "code",
        "colab": {}
      },
      "source": [
        "#import sys\n",
        "#sys.path.append('/content/drive/My Drive/SP1_2020/autoencoder/')"
      ],
      "execution_count": 0,
      "outputs": []
    },
    {
      "cell_type": "code",
      "metadata": {
        "id": "KzORkJiDApa8",
        "colab_type": "code",
        "colab": {}
      },
      "source": [
        "# import the necessary packages\n",
        "from tensorflow.keras.layers import BatchNormalization\n",
        "from tensorflow.keras.layers import Conv2D\n",
        "from tensorflow.keras.layers import Conv2DTranspose\n",
        "from tensorflow.keras.layers import LeakyReLU\n",
        "from tensorflow.keras.layers import Activation\n",
        "from tensorflow.keras.layers import Flatten\n",
        "from tensorflow.keras.layers import Dense\n",
        "from tensorflow.keras.layers import Reshape\n",
        "from tensorflow.keras.layers import Input\n",
        "from tensorflow.keras.models import Model\n",
        "from tensorflow.keras import backend as K\n",
        "import numpy as np\n",
        "from google.colab.patches import cv2_imshow"
      ],
      "execution_count": 0,
      "outputs": []
    },
    {
      "cell_type": "code",
      "metadata": {
        "id": "EjFkvFd-AqcY",
        "colab_type": "code",
        "colab": {}
      },
      "source": [
        "class ConvAutoencoder:\n",
        "    @staticmethod\n",
        "    def build(width, height, depth, filters=(64, 128), latentDim=32):\n",
        "        # initialize the input shape to be \"channels last\" along with\n",
        "        # the channels dimension itself\n",
        "        # channels dimension itself\n",
        "        inputShape = (height, width, depth)\n",
        "        chanDim = -1\n",
        "\n",
        "        # define the input to the encoder\n",
        "        inputs = Input(shape=inputShape)\n",
        "        x = inputs\n",
        "\n",
        "        # loop over the number of filters\n",
        "        for f in filters:\n",
        "            # apply a CONV => RELU => BN operation\n",
        "            x = Conv2D(f, (3, 3), strides=2, padding=\"same\")(x)\n",
        "            x = LeakyReLU(alpha=0.2)(x)\n",
        "            x = BatchNormalization(axis=chanDim)(x)\n",
        "\n",
        "        # flatten the network and then construct our latent vector\n",
        "        volumeSize = K.int_shape(x)\n",
        "        print(\"volumeSize:\",volumeSize)\n",
        "        x = Flatten()(x)\n",
        "        print(\"x shape\", K.int_shape(x))\n",
        "        latent = Dense(latentDim)(x)\n",
        "\n",
        "        # build the encoder model\n",
        "        encoder = Model(inputs, latent, name=\"encoder\")\n",
        "\n",
        "        # start building the decoder model which will accept the\n",
        "        # output of the encoder as its inputs\n",
        "        latentInputs = Input(shape=(latentDim,))\n",
        "        x = Dense(np.prod(volumeSize[1:]))(latentInputs)\n",
        "        print(\"prod shape:\",np.prod(volumeSize[1:]))\n",
        "        print(\"x shape\",K.int_shape(x))\n",
        "        x = Reshape((volumeSize[1], volumeSize[2], volumeSize[3]))(x)\n",
        "        print(\"x shape\",K.int_shape(x))\n",
        "        # loop over our number of filters again, but this time in\n",
        "        # reverse order\n",
        "        for f in filters[::-1]:\n",
        "            # apply a CONV_TRANSPOSE => RELU => BN operation\n",
        "            x = Conv2DTranspose(f, (3, 3), strides=2,\n",
        "                padding=\"same\")(x)\n",
        "            x = LeakyReLU(alpha=0.2)(x)\n",
        "            x = BatchNormalization(axis=chanDim)(x)\n",
        "\n",
        "        # apply a single CONV_TRANSPOSE layer used to recover the\n",
        "        # original depth of the image\n",
        "        x = Conv2DTranspose(depth, (3, 3), padding=\"same\")(x)\n",
        "        outputs = Activation(\"sigmoid\")(x)\n",
        "\n",
        "        # build the decoder model\n",
        "        decoder = Model(latentInputs, outputs, name=\"decoder\")\n",
        "\n",
        "        # our autoencoder is the encoder + decoder\n",
        "        autoencoder = Model(inputs, decoder(encoder(inputs)),\n",
        "            name=\"autoencoder\")\n",
        "\n",
        "        # return a 3-tuple of the encoder, decoder, and autoencoder\n",
        "        return (encoder, decoder, autoencoder)"
      ],
      "execution_count": 0,
      "outputs": []
    },
    {
      "cell_type": "code",
      "metadata": {
        "id": "89D2AFBp9HIZ",
        "colab_type": "code",
        "colab": {}
      },
      "source": [
        "# set the matplotlib backend so figures can be saved in the background\n",
        "import matplotlib\n",
        "matplotlib.use(\"Agg\")\n",
        "\n",
        "# import the necessary packages\n",
        "#from pyimagesearch.convautoencoder import ConvAutoencoder\n",
        "from tensorflow.keras.optimizers import Adam\n",
        "from tensorflow.keras.datasets import fashion_mnist\n",
        "from sklearn.model_selection import train_test_split\n",
        "import matplotlib.pyplot as plt\n",
        "import numpy as np\n",
        "import random\n",
        "import pickle\n",
        "import cv2"
      ],
      "execution_count": 0,
      "outputs": []
    },
    {
      "cell_type": "code",
      "metadata": {
        "id": "AKpO3AW6-ELO",
        "colab_type": "code",
        "colab": {}
      },
      "source": [
        "def build_unsupervised_dataset(data, labels, validLabel=1,\n",
        "    anomalyLabel=3, contam=0.01, seed=42):\n",
        "    # grab all indexes of the supplied class label that are *truly*\n",
        "    # that particular label, then grab the indexes of the image\n",
        "    # labels that will serve as our \"anomalies\"\n",
        "    validIdxs = np.where(labels == validLabel)[0]\n",
        "    anomalyIdxs = np.where(labels == anomalyLabel)[0]\n",
        "\n",
        "    # randomly shuffle both sets of indexes\n",
        "    random.shuffle(validIdxs)\n",
        "    random.shuffle(anomalyIdxs)\n",
        "\n",
        "    # compute the total number of anomaly data points to select\n",
        "    i = int(len(validIdxs) * contam)\n",
        "    anomalyIdxs = anomalyIdxs[:i]\n",
        "\n",
        "    # use NumPy array indexing to extract both the valid images and\n",
        "    # \"anomlay\" images\n",
        "    validImages = data[validIdxs]\n",
        "    anomalyImages = data[anomalyIdxs]\n",
        "\n",
        "    # stack the valid images and anomaly images together to form a\n",
        "    # single data matrix and then shuffle the rows\n",
        "    images = np.vstack([validImages, anomalyImages])\n",
        "    np.random.seed(seed)\n",
        "    np.random.shuffle(images)\n",
        "\n",
        "    # return the set of images\n",
        "    return images"
      ],
      "execution_count": 0,
      "outputs": []
    },
    {
      "cell_type": "code",
      "metadata": {
        "id": "bUWYKH3R-HUo",
        "colab_type": "code",
        "colab": {}
      },
      "source": [
        "def visualize_predictions(decoded, gt, samples=10):\n",
        "    # initialize our list of output images\n",
        "    outputs = None\n",
        "\n",
        "    # loop over our number of output samples\n",
        "    for i in range(0, samples):\n",
        "        # grab the original image and reconstructed image\n",
        "        original = (gt[i] * 255).astype(\"uint8\")\n",
        "        recon = (decoded[i] * 255).astype(\"uint8\")\n",
        "\n",
        "        # stack the original and reconstructed image side-by-side\n",
        "        output = np.hstack([original, recon])\n",
        "\n",
        "        # if the outputs array is empty, initialize it as the current\n",
        "        # side-by-side image display\n",
        "        if outputs is None:\n",
        "            outputs = output\n",
        "\n",
        "        # otherwise, vertically stack the outputs\n",
        "        else:\n",
        "            outputs = np.vstack([outputs, output])\n",
        "\n",
        "    # return the output images\n",
        "    return outputs"
      ],
      "execution_count": 0,
      "outputs": []
    },
    {
      "cell_type": "code",
      "metadata": {
        "id": "3aQ6Re9c-Y5d",
        "colab_type": "code",
        "outputId": "8a0b7d06-6c85-4e2b-df88-79483e9aab5b",
        "colab": {
          "base_uri": "https://localhost:8080/",
          "height": 629
        }
      },
      "source": [
        "# initialize the number of epochs to train for, initial learning rate,\n",
        "# and batch size\n",
        "EPOCHS = 10\n",
        "INIT_LR = 1e-3\n",
        "BS = 32\n",
        "\n",
        "# load the MNIST dataset\n",
        "print(\"[INFO] loading MNIST dataset...\")\n",
        "((trainX, trainY), (testX, testY)) = fashion_mnist.load_data()\n",
        "\n",
        "# build our unsupervised dataset of images with a small amount of\n",
        "# contamination (i.e., anomalies) added into it\n",
        "print(\"[INFO] creating unsupervised dataset...\")\n",
        "images = build_unsupervised_dataset(trainX, trainY, validLabel=2,\n",
        "    anomalyLabel=4, contam=0.01)\n",
        "\n",
        "# add a channel dimension to every image in the dataset, then scale\n",
        "# the pixel intensities to the range [0, 1]\n",
        "images = np.expand_dims(images, axis=-1)\n",
        "images = images.astype(\"float32\") / 255.0\n",
        "\n",
        "# construct the training and testing split\n",
        "(trainX, testX) = train_test_split(images, test_size=0.2,\n",
        "    random_state=42)\n",
        "\n",
        "# construct our convolutional autoencoder\n",
        "print(\"[INFO] building autoencoder...\")\n",
        "(encoder, decoder, autoencoder) = ConvAutoencoder.build(28, 28, 1)\n",
        "opt = Adam(lr=INIT_LR, decay=INIT_LR / EPOCHS)\n",
        "autoencoder.compile(loss=\"mse\", optimizer=opt)\n",
        "\n",
        "# train the convolutional autoencoder\n",
        "H = autoencoder.fit(\n",
        "    trainX, trainX,\n",
        "    validation_data=(testX, testX),\n",
        "    epochs=EPOCHS,\n",
        "    batch_size=BS)"
      ],
      "execution_count": 8,
      "outputs": [
        {
          "output_type": "stream",
          "text": [
            "[INFO] loading MNIST dataset...\n",
            "Downloading data from https://storage.googleapis.com/tensorflow/tf-keras-datasets/train-labels-idx1-ubyte.gz\n",
            "32768/29515 [=================================] - 0s 0us/step\n",
            "Downloading data from https://storage.googleapis.com/tensorflow/tf-keras-datasets/train-images-idx3-ubyte.gz\n",
            "26427392/26421880 [==============================] - 0s 0us/step\n",
            "Downloading data from https://storage.googleapis.com/tensorflow/tf-keras-datasets/t10k-labels-idx1-ubyte.gz\n",
            "8192/5148 [===============================================] - 0s 0us/step\n",
            "Downloading data from https://storage.googleapis.com/tensorflow/tf-keras-datasets/t10k-images-idx3-ubyte.gz\n",
            "4423680/4422102 [==============================] - 0s 0us/step\n",
            "[INFO] creating unsupervised dataset...\n",
            "[INFO] building autoencoder...\n",
            "volumeSize: (None, 7, 7, 128)\n",
            "x shape (None, 6272)\n",
            "prod shape: 6272\n",
            "x shape (None, 6272)\n",
            "x shape (None, 7, 7, 128)\n",
            "Epoch 1/10\n",
            "152/152 [==============================] - 30s 198ms/step - loss: 0.0260 - val_loss: 0.0989\n",
            "Epoch 2/10\n",
            "152/152 [==============================] - 30s 196ms/step - loss: 0.0117 - val_loss: 0.0696\n",
            "Epoch 3/10\n",
            "152/152 [==============================] - 30s 196ms/step - loss: 0.0094 - val_loss: 0.0438\n",
            "Epoch 4/10\n",
            "152/152 [==============================] - 30s 197ms/step - loss: 0.0084 - val_loss: 0.0130\n",
            "Epoch 5/10\n",
            "152/152 [==============================] - 30s 196ms/step - loss: 0.0081 - val_loss: 0.0085\n",
            "Epoch 6/10\n",
            "152/152 [==============================] - 30s 197ms/step - loss: 0.0073 - val_loss: 0.0081\n",
            "Epoch 7/10\n",
            "152/152 [==============================] - 30s 196ms/step - loss: 0.0069 - val_loss: 0.0075\n",
            "Epoch 8/10\n",
            "152/152 [==============================] - 30s 196ms/step - loss: 0.0069 - val_loss: 0.0074\n",
            "Epoch 9/10\n",
            "152/152 [==============================] - 30s 196ms/step - loss: 0.0067 - val_loss: 0.0076\n",
            "Epoch 10/10\n",
            "152/152 [==============================] - 30s 197ms/step - loss: 0.0063 - val_loss: 0.0077\n"
          ],
          "name": "stdout"
        }
      ]
    },
    {
      "cell_type": "code",
      "metadata": {
        "id": "7J3UcWAf-yIx",
        "colab_type": "code",
        "outputId": "69be1ee3-730d-4142-a1eb-94b490b6e6ac",
        "colab": {
          "base_uri": "https://localhost:8080/",
          "height": 51
        }
      },
      "source": [
        "# use the convolutional autoencoder to make predictions on the\n",
        "# testing images, construct the visualization, and then save it\n",
        "# to disk\n",
        "print(\"[INFO] making predictions...\")\n",
        "decoded = autoencoder.predict(testX)\n",
        "vis = visualize_predictions(decoded, testX)\n",
        "cv2.imwrite(\"/content/drive/My Drive/Lab07/encoder_vis.png\", vis)"
      ],
      "execution_count": 12,
      "outputs": [
        {
          "output_type": "stream",
          "text": [
            "[INFO] making predictions...\n"
          ],
          "name": "stdout"
        },
        {
          "output_type": "execute_result",
          "data": {
            "text/plain": [
              "True"
            ]
          },
          "metadata": {
            "tags": []
          },
          "execution_count": 12
        }
      ]
    },
    {
      "cell_type": "code",
      "metadata": {
        "id": "F2L6JeLgJKme",
        "colab_type": "code",
        "outputId": "43ef0477-b51c-4297-faf2-8f3b576301f0",
        "colab": {
          "base_uri": "https://localhost:8080/",
          "height": 297
        }
      },
      "source": [
        "img = cv2.imread('/content/drive/My Drive/Lab07/encoder_vis.png', cv2.IMREAD_UNCHANGED)\n",
        "cv2_imshow(img)"
      ],
      "execution_count": 13,
      "outputs": [
        {
          "output_type": "display_data",
          "data": {
            "image/png": "[encoded data removed]",
            "text/plain": [
              "<PIL.Image.Image image mode=L size=56x280 at 0x7F51DCB2B0F0>"
            ]
          },
          "metadata": {
            "tags": []
          }
        }
      ]
    },
    {
      "cell_type": "code",
      "metadata": {
        "id": "iKecfCn0_b2q",
        "colab_type": "code",
        "colab": {}
      },
      "source": [
        "# construct a plot that plots and saves the training history\n",
        "N = np.arange(0, EPOCHS)\n",
        "plt.style.use(\"ggplot\")\n",
        "plt.figure()\n",
        "plt.plot(N, H.history[\"loss\"], label=\"train_loss\")\n",
        "plt.plot(N, H.history[\"val_loss\"], label=\"val_loss\")\n",
        "plt.title(\"Training Loss\")\n",
        "plt.xlabel(\"Epoch #\")\n",
        "plt.ylabel(\"Loss\")\n",
        "plt.legend(loc=\"lower left\")\n",
        "plt.savefig(\"/content/drive/My Drive/Lab07/plot.png\")"
      ],
      "execution_count": 0,
      "outputs": []
    },
    {
      "cell_type": "code",
      "metadata": {
        "id": "2MHFtvBiH9Co",
        "colab_type": "code",
        "outputId": "47317e83-2486-4920-bdbe-debf77def498",
        "colab": {
          "base_uri": "https://localhost:8080/",
          "height": 305
        }
      },
      "source": [
        "img = cv2.imread('/content/drive/My Drive/Lab07/plot.png', cv2.IMREAD_UNCHANGED)\n",
        "cv2_imshow(img)"
      ],
      "execution_count": 15,
      "outputs": [
        {
          "output_type": "display_data",
          "data": {
            "image/png": "[encoded data removed]",
            "text/plain": [
              "<PIL.Image.Image image mode=RGBA size=432x288 at 0x7F51DB230160>"
            ]
          },
          "metadata": {
            "tags": []
          }
        }
      ]
    },
    {
      "cell_type": "code",
      "metadata": {
        "id": "9q7QfK9z71Jr",
        "colab_type": "code",
        "outputId": "59144adc-cf1d-41aa-c3b9-a20e8b405d40",
        "colab": {
          "base_uri": "https://localhost:8080/",
          "height": 51
        }
      },
      "source": [
        "# serialize the image data to disk\n",
        "print(\"[INFO] saving image data...\")\n",
        "f = open(\"/content/drive/My Drive/Lab07/output/images.pickle\", \"wb\")\n",
        "f.write(pickle.dumps(images))\n",
        "f.close()\n",
        "\n",
        "# serialize the autoencoder model to disk\n",
        "print(\"[INFO] saving autoencoder...\")\n",
        "autoencoder.save(\"/content/drive/My Drive/Lab07/output/autoencoder.model\", save_format=\"h5\")"
      ],
      "execution_count": 19,
      "outputs": [
        {
          "output_type": "stream",
          "text": [
            "[INFO] saving image data...\n",
            "[INFO] saving autoencoder...\n"
          ],
          "name": "stdout"
        }
      ]
    },
    {
      "cell_type": "markdown",
      "metadata": {
        "id": "LEzr9VKYenSd",
        "colab_type": "text"
      },
      "source": [
        "###Find Anomalies\n"
      ]
    },
    {
      "cell_type": "code",
      "metadata": {
        "id": "NzfKklV2etH6",
        "colab_type": "code",
        "colab": {
          "base_uri": "https://localhost:8080/",
          "height": 34
        },
        "outputId": "1782a17c-769b-4797-960a-f408f1bb95b6"
      },
      "source": [
        "# import the necessary packages\n",
        "from tensorflow.keras.models import load_model\n",
        "import numpy as np\n",
        "#import argparse\n",
        "import pickle\n",
        "import cv2\n",
        "# load the model and image data from disk\n",
        "print(\"[INFO] loading autoencoder and image data...\")\n",
        "autoencoder = load_model(\"/content/drive/My Drive/Lab07/output/autoencoder.model\")\n",
        "images = pickle.loads(open(\"/content/drive/My Drive/Lab07/output/images.pickle\", \"rb\").read())"
      ],
      "execution_count": 22,
      "outputs": [
        {
          "output_type": "stream",
          "text": [
            "[INFO] loading autoencoder and image data...\n"
          ],
          "name": "stdout"
        }
      ]
    },
    {
      "cell_type": "code",
      "metadata": {
        "id": "UWm1NCcpezmm",
        "colab_type": "code",
        "colab": {}
      },
      "source": [
        "# make predictions on our image data and initialize our list of\n",
        "# reconstruction errors\n",
        "decoded = autoencoder.predict(images)\n",
        "errors = []\n",
        "\n",
        "# loop over all original images and their corresponding\n",
        "# reconstructions\n",
        "for (image, recon) in zip(images, decoded):\n",
        "    # compute the mean squared error between the ground-truth image\n",
        "    # and the reconstructed image, then add it to our list of errors\n",
        "    mse = np.mean((image - recon) ** 2)\n",
        "    errors.append(mse)"
      ],
      "execution_count": 0,
      "outputs": []
    },
    {
      "cell_type": "code",
      "metadata": {
        "id": "jL2XL7cWfDIF",
        "colab_type": "code",
        "colab": {
          "base_uri": "https://localhost:8080/",
          "height": 51
        },
        "outputId": "d2fe3893-7220-45a1-820d-c7fd2cfb8680"
      },
      "source": [
        "# compute the q-th quantile of the errors which serves as our\n",
        "# threshold to identify anomalies -- any data point that our model\n",
        "# reconstructed with > threshold error will be marked as an outlier\n",
        "thresh = np.quantile(errors, 0.999)\n",
        "idxs = np.where(np.array(errors) >= thresh)[0]\n",
        "print(\"[INFO] mse threshold: {}\".format(thresh))\n",
        "print(\"[INFO] {} outliers found\".format(len(idxs)))\n",
        "\n",
        "# initialize the outputs array\n",
        "outputs = None"
      ],
      "execution_count": 25,
      "outputs": [
        {
          "output_type": "stream",
          "text": [
            "[INFO] mse threshold: 0.0566113067679106\n",
            "[INFO] 7 outliers found\n"
          ],
          "name": "stdout"
        }
      ]
    },
    {
      "cell_type": "code",
      "metadata": {
        "id": "ESwCp4tcfGbZ",
        "colab_type": "code",
        "colab": {}
      },
      "source": [
        "# loop over the indexes of images with a high mean squared error term\n",
        "for i in idxs:\n",
        "    # grab the original image and reconstructed image\n",
        "    original = (images[i] * 255).astype(\"uint8\")\n",
        "    recon = (decoded[i] * 255).astype(\"uint8\")\n",
        "\n",
        "    # stack the original and reconstructed image side-by-side\n",
        "    output = np.hstack([original, recon])\n",
        "\n",
        "    # if the outputs array is empty, initialize it as the current\n",
        "    # side-by-side image display\n",
        "    if outputs is None:\n",
        "        outputs = output\n",
        "\n",
        "    # otherwise, vertically stack the outputs\n",
        "    else:\n",
        "        outputs = np.vstack([outputs, output])\n",
        "\n"
      ],
      "execution_count": 0,
      "outputs": []
    },
    {
      "cell_type": "code",
      "metadata": {
        "id": "sptM6kPtfHM5",
        "colab_type": "code",
        "colab": {
          "base_uri": "https://localhost:8080/",
          "height": 213
        },
        "outputId": "d533b5ca-a29c-43ec-9450-abfe8c5b4b13"
      },
      "source": [
        "# show the output visualization\n",
        "cv2_imshow(outputs)"
      ],
      "execution_count": 27,
      "outputs": [
        {
          "output_type": "display_data",
          "data": {
            "image/png": "[encoded data removed]",
            "text/plain": [
              "<PIL.Image.Image image mode=RGB size=56x196 at 0x7F51D9FBF0F0>"
            ]
          },
          "metadata": {
            "tags": []
          }
        }
      ]
    }
  ]
}