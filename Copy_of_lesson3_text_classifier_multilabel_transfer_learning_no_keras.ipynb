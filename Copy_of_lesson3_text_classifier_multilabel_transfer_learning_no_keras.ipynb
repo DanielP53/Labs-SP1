{
  "nbformat": 4,
  "nbformat_minor": 0,
  "metadata": {
    "colab": {
      "name": "Copy of lesson3-text-classifier-multilabel-transfer-learning-no-keras.ipynb",
      "provenance": [],
      "collapsed_sections": [],
      "include_colab_link": true
    },
    "kernelspec": {
      "name": "python3",
      "display_name": "Python 3"
    }
  },
  "cells": [
    {
      "cell_type": "markdown",
      "metadata": {
        "id": "view-in-github",
        "colab_type": "text"
      },
      "source": [
        "<a href=\"https://colab.research.google.com/github/DanielP53/Labs-SP1/blob/master/Copy_of_lesson3_text_classifier_multilabel_transfer_learning_no_keras.ipynb\" target=\"_parent\"><img src=\"https://colab.research.google.com/assets/colab-badge.svg\" alt=\"Open In Colab\"/></a>"
      ]
    },
    {
      "cell_type": "markdown",
      "metadata": {
        "id": "1omFRG1dn1GK",
        "colab_type": "text"
      },
      "source": [
        "#Imports"
      ]
    },
    {
      "cell_type": "code",
      "metadata": {
        "id": "UUMqIqQflTWa",
        "colab_type": "code",
        "colab": {}
      },
      "source": [
        "%tensorflow_version 2.x\n",
        "\n",
        "import tensorflow as tf\n",
        "import tensorflow_hub as hub\n",
        "\n",
        "from tensorflow.keras.preprocessing.text import Tokenizer\n",
        "from tensorflow.keras.preprocessing.sequence import pad_sequences\n",
        "\n",
        "from tensorflow.keras.models import Sequential\n",
        "from tensorflow.keras.layers import Dense, Embedding, Flatten, GlobalAveragePooling1D\n",
        "\n",
        "import numpy as np\n",
        "import pandas as pd\n",
        "import matplotlib.pylab as plt\n",
        "import os, re, json, functools\n",
        "\n",
        "#dark mode\n",
        "plt.rc_context({'xtick.color':'w', 'ytick.color':'w', 'text.color':'w', 'axes.labelcolor':'w'})\n",
        "\n",
        "seed=1234\n",
        "np.random.seed(seed)\n",
        "tf.random.set_seed(seed)"
      ],
      "execution_count": 0,
      "outputs": []
    },
    {
      "cell_type": "code",
      "metadata": {
        "id": "ia0KlyCBoKbf",
        "colab_type": "code",
        "colab": {
          "base_uri": "https://localhost:8080/",
          "height": 204
        },
        "outputId": "aa3ec663-221c-4f0b-fb6d-efdcf66a8615"
      },
      "source": [
        "pip install kaggle --upgrade"
      ],
      "execution_count": 73,
      "outputs": [
        {
          "output_type": "stream",
          "text": [
            "Requirement already up-to-date: kaggle in /usr/local/lib/python3.6/dist-packages (1.5.6)\n",
            "Requirement already satisfied, skipping upgrade: urllib3<1.25,>=1.21.1 in /usr/local/lib/python3.6/dist-packages (from kaggle) (1.24.3)\n",
            "Requirement already satisfied, skipping upgrade: certifi in /tensorflow-2.1.0/python3.6 (from kaggle) (2019.11.28)\n",
            "Requirement already satisfied, skipping upgrade: tqdm in /usr/local/lib/python3.6/dist-packages (from kaggle) (4.28.1)\n",
            "Requirement already satisfied, skipping upgrade: python-dateutil in /usr/local/lib/python3.6/dist-packages (from kaggle) (2.6.1)\n",
            "Requirement already satisfied, skipping upgrade: six>=1.10 in /tensorflow-2.1.0/python3.6 (from kaggle) (1.14.0)\n",
            "Requirement already satisfied, skipping upgrade: requests in /tensorflow-2.1.0/python3.6 (from kaggle) (2.22.0)\n",
            "Requirement already satisfied, skipping upgrade: python-slugify in /usr/local/lib/python3.6/dist-packages (from kaggle) (4.0.0)\n",
            "Requirement already satisfied, skipping upgrade: chardet<3.1.0,>=3.0.2 in /tensorflow-2.1.0/python3.6 (from requests->kaggle) (3.0.4)\n",
            "Requirement already satisfied, skipping upgrade: idna<2.9,>=2.5 in /tensorflow-2.1.0/python3.6 (from requests->kaggle) (2.8)\n",
            "Requirement already satisfied, skipping upgrade: text-unidecode>=1.3 in /usr/local/lib/python3.6/dist-packages (from python-slugify->kaggle) (1.3)\n"
          ],
          "name": "stdout"
        }
      ]
    },
    {
      "cell_type": "markdown",
      "metadata": {
        "id": "1VZ5G7lGoBJy",
        "colab_type": "text"
      },
      "source": [
        "#Dataset"
      ]
    },
    {
      "cell_type": "code",
      "metadata": {
        "id": "fKert1GfoMiC",
        "colab_type": "code",
        "colab": {}
      },
      "source": [
        "os.environ['KAGGLE_USERNAME'] = \"danielp53\"\n",
        "os.environ['KAGGLE_KEY']='624437912e873e8045b8546a12db2b5e'\n"
      ],
      "execution_count": 0,
      "outputs": []
    },
    {
      "cell_type": "code",
      "metadata": {
        "id": "3qJfgmOOoOLo",
        "colab_type": "code",
        "outputId": "4a2690a0-a062-483e-ea02-a27a5df5dd8c",
        "colab": {
          "base_uri": "https://localhost:8080/",
          "height": 34
        }
      },
      "source": [
        "#https://www.kaggle.com/rounakbanik/the-movies-dataset\n",
        "!kaggle datasets download rounakbanik/the-movies-dataset"
      ],
      "execution_count": 75,
      "outputs": [
        {
          "output_type": "stream",
          "text": [
            "the-movies-dataset.zip: Skipping, found more recently modified local copy (use --force to force download)\n"
          ],
          "name": "stdout"
        }
      ]
    },
    {
      "cell_type": "code",
      "metadata": {
        "id": "xGi86gE4oT-0",
        "colab_type": "code",
        "outputId": "a6123c13-f708-4641-8100-471195876a94",
        "colab": {
          "base_uri": "https://localhost:8080/",
          "height": 153
        }
      },
      "source": [
        "!unzip -o 'the-movies-dataset.zip'"
      ],
      "execution_count": 76,
      "outputs": [
        {
          "output_type": "stream",
          "text": [
            "Archive:  the-movies-dataset.zip\n",
            "  inflating: credits.csv             \n",
            "  inflating: keywords.csv            \n",
            "  inflating: links.csv               \n",
            "  inflating: links_small.csv         \n",
            "  inflating: movies_metadata.csv     \n",
            "  inflating: ratings.csv             \n",
            "  inflating: ratings_small.csv       \n"
          ],
          "name": "stdout"
        }
      ]
    },
    {
      "cell_type": "code",
      "metadata": {
        "id": "w-xyPrtAo979",
        "colab_type": "code",
        "outputId": "b41c1393-1b9a-4c50-bf95-1b81350d88f8",
        "colab": {
          "base_uri": "https://localhost:8080/",
          "height": 187
        }
      },
      "source": [
        "os.listdir()"
      ],
      "execution_count": 77,
      "outputs": [
        {
          "output_type": "execute_result",
          "data": {
            "text/plain": [
              "['.config',\n",
              " 'links.csv',\n",
              " 'ratings.csv',\n",
              " 'movies_metadata.csv',\n",
              " 'ratings_small.csv',\n",
              " 'links_small.csv',\n",
              " 'credits.csv',\n",
              " 'the-movies-dataset.zip',\n",
              " 'keywords.csv',\n",
              " 'sample_data']"
            ]
          },
          "metadata": {
            "tags": []
          },
          "execution_count": 77
        }
      ]
    },
    {
      "cell_type": "code",
      "metadata": {
        "id": "DoyZ3q0joxCa",
        "colab_type": "code",
        "colab": {
          "base_uri": "https://localhost:8080/",
          "height": 289
        },
        "outputId": "d376d658-ccc7-4205-e706-bcd0bc46f2cb"
      },
      "source": [
        "movies = pd.read_csv('movies_metadata.csv')\n",
        "movies.head"
      ],
      "execution_count": 78,
      "outputs": [
        {
          "output_type": "stream",
          "text": [
            "/usr/local/lib/python3.6/dist-packages/IPython/core/interactiveshell.py:2718: DtypeWarning: Columns (10) have mixed types. Specify dtype option on import or set low_memory=False.\n",
            "  interactivity=interactivity, compiler=compiler, result=result)\n"
          ],
          "name": "stderr"
        },
        {
          "output_type": "execute_result",
          "data": {
            "text/plain": [
              "<bound method NDFrame.head of        adult  ... vote_count\n",
              "0      False  ...     5415.0\n",
              "1      False  ...     2413.0\n",
              "2      False  ...       92.0\n",
              "3      False  ...       34.0\n",
              "4      False  ...      173.0\n",
              "...      ...  ...        ...\n",
              "45461  False  ...        1.0\n",
              "45462  False  ...        3.0\n",
              "45463  False  ...        6.0\n",
              "45464  False  ...        0.0\n",
              "45465  False  ...        0.0\n",
              "\n",
              "[45466 rows x 24 columns]>"
            ]
          },
          "metadata": {
            "tags": []
          },
          "execution_count": 78
        }
      ]
    },
    {
      "cell_type": "code",
      "metadata": {
        "id": "ox8BRpVrqZCU",
        "colab_type": "code",
        "outputId": "dfec747b-2644-4eb0-96ac-df2c0f88e596",
        "colab": {
          "base_uri": "https://localhost:8080/",
          "height": 136
        }
      },
      "source": [
        "movies.columns"
      ],
      "execution_count": 79,
      "outputs": [
        {
          "output_type": "execute_result",
          "data": {
            "text/plain": [
              "Index(['adult', 'belongs_to_collection', 'budget', 'genres', 'homepage', 'id',\n",
              "       'imdb_id', 'original_language', 'original_title', 'overview',\n",
              "       'popularity', 'poster_path', 'production_companies',\n",
              "       'production_countries', 'release_date', 'revenue', 'runtime',\n",
              "       'spoken_languages', 'status', 'tagline', 'title', 'video',\n",
              "       'vote_average', 'vote_count'],\n",
              "      dtype='object')"
            ]
          },
          "metadata": {
            "tags": []
          },
          "execution_count": 79
        }
      ]
    },
    {
      "cell_type": "code",
      "metadata": {
        "id": "RNfs1dxLp2BF",
        "colab_type": "code",
        "outputId": "89c7881e-ae83-4933-b707-3e468a0aab7d",
        "colab": {
          "base_uri": "https://localhost:8080/",
          "height": 221
        }
      },
      "source": [
        "movies.genres"
      ],
      "execution_count": 80,
      "outputs": [
        {
          "output_type": "execute_result",
          "data": {
            "text/plain": [
              "0        [{'id': 16, 'name': 'Animation'}, {'id': 35, '...\n",
              "1        [{'id': 12, 'name': 'Adventure'}, {'id': 14, '...\n",
              "2        [{'id': 10749, 'name': 'Romance'}, {'id': 35, ...\n",
              "3        [{'id': 35, 'name': 'Comedy'}, {'id': 18, 'nam...\n",
              "4                           [{'id': 35, 'name': 'Comedy'}]\n",
              "                               ...                        \n",
              "45461    [{'id': 18, 'name': 'Drama'}, {'id': 10751, 'n...\n",
              "45462                        [{'id': 18, 'name': 'Drama'}]\n",
              "45463    [{'id': 28, 'name': 'Action'}, {'id': 18, 'nam...\n",
              "45464                                                   []\n",
              "45465                                                   []\n",
              "Name: genres, Length: 45466, dtype: object"
            ]
          },
          "metadata": {
            "tags": []
          },
          "execution_count": 80
        }
      ]
    },
    {
      "cell_type": "code",
      "metadata": {
        "id": "0-W7T9weqWcG",
        "colab_type": "code",
        "outputId": "06e8c7a3-cd1d-4458-b450-df16457b0ba0",
        "colab": {
          "base_uri": "https://localhost:8080/",
          "height": 221
        }
      },
      "source": [
        "movies.overview"
      ],
      "execution_count": 81,
      "outputs": [
        {
          "output_type": "execute_result",
          "data": {
            "text/plain": [
              "0        Led by Woody, Andy's toys live happily in his ...\n",
              "1        When siblings Judy and Peter discover an encha...\n",
              "2        A family wedding reignites the ancient feud be...\n",
              "3        Cheated on, mistreated and stepped on, the wom...\n",
              "4        Just when George Banks has recovered from his ...\n",
              "                               ...                        \n",
              "45461          Rising and falling between a man and woman.\n",
              "45462    An artist struggles to finish his work while a...\n",
              "45463    When one of her hits goes wrong, a professiona...\n",
              "45464    In a small town live two brothers, one a minis...\n",
              "45465    50 years after decriminalisation of homosexual...\n",
              "Name: overview, Length: 45466, dtype: object"
            ]
          },
          "metadata": {
            "tags": []
          },
          "execution_count": 81
        }
      ]
    },
    {
      "cell_type": "code",
      "metadata": {
        "id": "SFRtFNWuqXa3",
        "colab_type": "code",
        "colab": {}
      },
      "source": [
        "movies = movies[movies['imdb_id'] != '0']\n",
        "movies = movies[movies['genres'] != \"[]\"]\n",
        "movies = movies[~pd.isna(movies['overview'])]\n",
        "\n",
        "#overview = movies['overview']\n",
        "#genres = movies['genres']\n",
        "\n",
        "dataset = movies[['overview', 'genres']] "
      ],
      "execution_count": 0,
      "outputs": []
    },
    {
      "cell_type": "code",
      "metadata": {
        "id": "qTAqu8CL5YYn",
        "colab_type": "code",
        "colab": {
          "base_uri": "https://localhost:8080/",
          "height": 34
        },
        "outputId": "40ba084b-cf34-4c32-f031-c08ee72e40d5"
      },
      "source": [
        "len(dataset)"
      ],
      "execution_count": 83,
      "outputs": [
        {
          "output_type": "execute_result",
          "data": {
            "text/plain": [
              "42324"
            ]
          },
          "metadata": {
            "tags": []
          },
          "execution_count": 83
        }
      ]
    },
    {
      "cell_type": "code",
      "metadata": {
        "id": "E0EBANiQWBMa",
        "colab_type": "code",
        "colab": {
          "base_uri": "https://localhost:8080/",
          "height": 34
        },
        "outputId": "bb2a5933-8fe6-4848-ef15-590a916e6b7a"
      },
      "source": [
        "#DATASET_SIZE = len(genres)\n",
        "#CLASS_NAMES = ['Drama','Comedy','Thriller','Romance','Action','Horror','Crime','Documentary','Adventure','Science Fiction']\n",
        "CLASS_NAMES = ['Drama','Comedy','Thriller','Romance','Action']\n",
        "CLASS_COUNT = len(CLASS_NAMES)\n",
        "CLASS_COUNT"
      ],
      "execution_count": 84,
      "outputs": [
        {
          "output_type": "execute_result",
          "data": {
            "text/plain": [
              "5"
            ]
          },
          "metadata": {
            "tags": []
          },
          "execution_count": 84
        }
      ]
    },
    {
      "cell_type": "code",
      "metadata": {
        "id": "fmIKjuKhVE8-",
        "colab_type": "code",
        "colab": {
          "base_uri": "https://localhost:8080/",
          "height": 34
        },
        "outputId": "c084f86e-f38b-456d-ad58-727d27b437b2"
      },
      "source": [
        "dataset.iloc[0]['genres']"
      ],
      "execution_count": 85,
      "outputs": [
        {
          "output_type": "execute_result",
          "data": {
            "text/plain": [
              "\"[{'id': 16, 'name': 'Animation'}, {'id': 35, 'name': 'Comedy'}, {'id': 10751, 'name': 'Family'}]\""
            ]
          },
          "metadata": {
            "tags": []
          },
          "execution_count": 85
        }
      ]
    },
    {
      "cell_type": "code",
      "metadata": {
        "id": "WaOjvNYKq9dT",
        "colab_type": "code",
        "colab": {
          "base_uri": "https://localhost:8080/",
          "height": 119
        },
        "outputId": "e029f62c-1118-47be-e9cf-1f92555cc66d"
      },
      "source": [
        "dataset['genres'].replace(\"\\'\", \"\\\"\", regex=True, inplace=True)\n",
        "dataset.iloc[0]['genres']"
      ],
      "execution_count": 86,
      "outputs": [
        {
          "output_type": "stream",
          "text": [
            "/usr/local/lib/python3.6/dist-packages/pandas/core/generic.py:6786: SettingWithCopyWarning: \n",
            "A value is trying to be set on a copy of a slice from a DataFrame\n",
            "\n",
            "See the caveats in the documentation: http://pandas.pydata.org/pandas-docs/stable/user_guide/indexing.html#returning-a-view-versus-a-copy\n",
            "  self._update_inplace(new_data)\n"
          ],
          "name": "stderr"
        },
        {
          "output_type": "execute_result",
          "data": {
            "text/plain": [
              "'[{\"id\": 16, \"name\": \"Animation\"}, {\"id\": 35, \"name\": \"Comedy\"}, {\"id\": 10751, \"name\": \"Family\"}]'"
            ]
          },
          "metadata": {
            "tags": []
          },
          "execution_count": 86
        }
      ]
    },
    {
      "cell_type": "code",
      "metadata": {
        "id": "XZhsqSRqtG8k",
        "colab_type": "code",
        "colab": {}
      },
      "source": [
        "#genre_to_id = dict()\n",
        "label_count = dict()\n",
        "\n",
        "def genre_to_list(str_genre):\n",
        "  keep = True\n",
        "  genre_list = list(map(lambda genre:genre['name'],json.loads(str_genre)))\n",
        "  \n",
        "  for genre in genre_list:\n",
        "    count = label_count.get(genre, 0) + 1\n",
        "    label_count[genre] = count\n",
        "    if (count > 5000):\n",
        "      keep = False\n",
        "    #if (genre_to_id.get(genre,-1) == -1):\n",
        "    #  genre_to_id[genre] = len(genre_to_id.keys())\n",
        "  genres_as_ids = list(map(lambda x: CLASS_NAMES.index(x), filter(lambda x: x in CLASS_NAMES, genre_list)))\n",
        "  #genres_as_ids = list(map(lambda x:genre_to_id[x], genre_list)) \n",
        "  genres_one_hot = list()\n",
        "\n",
        "  if (len(genres_as_ids) > 0 and keep):\n",
        "    genres_one_hot = tf.keras.utils.to_categorical(genres_as_ids, CLASS_COUNT, dtype='int')\n",
        "    genres_one_hot = functools.reduce(lambda x,y : x+y,genres_one_hot)\n",
        "\n",
        "  return genres_one_hot"
      ],
      "execution_count": 0,
      "outputs": []
    },
    {
      "cell_type": "code",
      "metadata": {
        "id": "vlwXHb4asIRk",
        "colab_type": "code",
        "colab": {
          "base_uri": "https://localhost:8080/",
          "height": 136
        },
        "outputId": "996f579b-0565-4e79-8664-5444bd57661d"
      },
      "source": [
        "dataset['genres'] = dataset['genres'].apply(lambda x: genre_to_list(x))\n",
        "dataset.iloc[0]['genres']"
      ],
      "execution_count": 88,
      "outputs": [
        {
          "output_type": "stream",
          "text": [
            "/usr/local/lib/python3.6/dist-packages/ipykernel_launcher.py:1: SettingWithCopyWarning: \n",
            "A value is trying to be set on a copy of a slice from a DataFrame.\n",
            "Try using .loc[row_indexer,col_indexer] = value instead\n",
            "\n",
            "See the caveats in the documentation: http://pandas.pydata.org/pandas-docs/stable/user_guide/indexing.html#returning-a-view-versus-a-copy\n",
            "  \"\"\"Entry point for launching an IPython kernel.\n"
          ],
          "name": "stderr"
        },
        {
          "output_type": "execute_result",
          "data": {
            "text/plain": [
              "array([0, 1, 0, 0, 0])"
            ]
          },
          "metadata": {
            "tags": []
          },
          "execution_count": 88
        }
      ]
    },
    {
      "cell_type": "code",
      "metadata": {
        "id": "8pXk8DNdgcLa",
        "colab_type": "code",
        "outputId": "a676e184-ba40-461b-d588-1eb72d657d09",
        "colab": {
          "base_uri": "https://localhost:8080/",
          "height": 34
        }
      },
      "source": [
        "dataset = dataset[~dataset['genres'].str.len().eq(0)]\n",
        "len(dataset)"
      ],
      "execution_count": 89,
      "outputs": [
        {
          "output_type": "execute_result",
          "data": {
            "text/plain": [
              "11869"
            ]
          },
          "metadata": {
            "tags": []
          },
          "execution_count": 89
        }
      ]
    },
    {
      "cell_type": "code",
      "metadata": {
        "id": "EfE5j7MESK4S",
        "colab_type": "code",
        "outputId": "60f9d3d3-95da-4800-db3d-2eb6c36efc49",
        "colab": {
          "base_uri": "https://localhost:8080/",
          "height": 357
        }
      },
      "source": [
        "sorted(label_count.items(), key=lambda x: x[1], reverse=True)"
      ],
      "execution_count": 90,
      "outputs": [
        {
          "output_type": "execute_result",
          "data": {
            "text/plain": [
              "[('Drama', 20023),\n",
              " ('Comedy', 12806),\n",
              " ('Thriller', 7586),\n",
              " ('Romance', 6673),\n",
              " ('Action', 6565),\n",
              " ('Horror', 4660),\n",
              " ('Crime', 4269),\n",
              " ('Documentary', 3886),\n",
              " ('Adventure', 3470),\n",
              " ('Science Fiction', 3028),\n",
              " ('Family', 2732),\n",
              " ('Mystery', 2451),\n",
              " ('Fantasy', 2290),\n",
              " ('Animation', 1920),\n",
              " ('Foreign', 1599),\n",
              " ('Music', 1588),\n",
              " ('History', 1379),\n",
              " ('War', 1310),\n",
              " ('Western', 1035),\n",
              " ('TV Movie', 751)]"
            ]
          },
          "metadata": {
            "tags": []
          },
          "execution_count": 90
        }
      ]
    },
    {
      "cell_type": "code",
      "metadata": {
        "id": "2ovCxtiJ3ePr",
        "colab_type": "code",
        "colab": {}
      },
      "source": [
        "#CLASS_NAMES = list(genre_to_id.keys())\n",
        "#CLASS_COUNT == len(CLASS_NAMES), CLASS_NAMES"
      ],
      "execution_count": 0,
      "outputs": []
    },
    {
      "cell_type": "markdown",
      "metadata": {
        "id": "R0yG86oslWyA",
        "colab_type": "text"
      },
      "source": [
        "##Split dataset"
      ]
    },
    {
      "cell_type": "code",
      "metadata": {
        "id": "I4ZuGK-6jjtT",
        "colab_type": "code",
        "outputId": "fd6e019f-1023-4cb0-84ec-5fc48adfc7cd",
        "colab": {
          "base_uri": "https://localhost:8080/",
          "height": 34
        }
      },
      "source": [
        "train_split = dataset.sample(frac = 0.7,random_state=42)\n",
        "test_split = dataset.drop(train_split.index).sample(frac = 0.5)\n",
        "validation_split = dataset.drop(train_split.index).drop(test_split.index)\n",
        "\n",
        "train_split.shape, validation_split.shape, test_split.shape"
      ],
      "execution_count": 92,
      "outputs": [
        {
          "output_type": "execute_result",
          "data": {
            "text/plain": [
              "((8308, 2), (1781, 2), (1780, 2))"
            ]
          },
          "metadata": {
            "tags": []
          },
          "execution_count": 92
        }
      ]
    },
    {
      "cell_type": "code",
      "metadata": {
        "id": "10U9dxfJuAps",
        "colab_type": "code",
        "outputId": "4886367d-c369-4fa2-a5b3-795295ec1276",
        "colab": {
          "base_uri": "https://localhost:8080/",
          "height": 68
        }
      },
      "source": [
        "train_split.iloc[0]"
      ],
      "execution_count": 93,
      "outputs": [
        {
          "output_type": "execute_result",
          "data": {
            "text/plain": [
              "overview    Christopher Walken shines in this cult-favorit...\n",
              "genres                                        [1, 1, 1, 0, 1]\n",
              "Name: 1701, dtype: object"
            ]
          },
          "metadata": {
            "tags": []
          },
          "execution_count": 93
        }
      ]
    },
    {
      "cell_type": "code",
      "metadata": {
        "id": "0TpaR7kAw_bw",
        "colab_type": "code",
        "outputId": "5a6b3567-1aac-4559-f192-498ee4e2513c",
        "colab": {
          "base_uri": "https://localhost:8080/",
          "height": 34
        }
      },
      "source": [
        "train_labels = train_split['genres']\n",
        "test_labels = test_split['genres']\n",
        "validation_labels = validation_split['genres']\n",
        "train_labels.shape, test_labels.shape, validation_labels.shape"
      ],
      "execution_count": 94,
      "outputs": [
        {
          "output_type": "execute_result",
          "data": {
            "text/plain": [
              "((8308,), (1780,), (1781,))"
            ]
          },
          "metadata": {
            "tags": []
          },
          "execution_count": 94
        }
      ]
    },
    {
      "cell_type": "code",
      "metadata": {
        "id": "mpdn-h23xmgk",
        "colab_type": "code",
        "outputId": "1c3c0a74-5bb7-493f-d4fe-1af66ec12851",
        "colab": {
          "base_uri": "https://localhost:8080/",
          "height": 51
        }
      },
      "source": [
        "train_dataset = tf.data.Dataset.from_tensor_slices((train_split['overview'], train_split['genres']))\n",
        "test_dataset = tf.data.Dataset.from_tensor_slices((test_split['overview'], test_split['genres']))\n",
        "validation_dataset = tf.data.Dataset.from_tensor_slices((validation_split['overview'], validation_split['genres']))\n",
        "train_dataset.element_spec"
      ],
      "execution_count": 95,
      "outputs": [
        {
          "output_type": "execute_result",
          "data": {
            "text/plain": [
              "(TensorSpec(shape=(), dtype=tf.string, name=None),\n",
              " TensorSpec(shape=(5,), dtype=tf.int32, name=None))"
            ]
          },
          "metadata": {
            "tags": []
          },
          "execution_count": 95
        }
      ]
    },
    {
      "cell_type": "code",
      "metadata": {
        "id": "nE-Jbb859Aa6",
        "colab_type": "code",
        "outputId": "959fe331-c595-4374-894c-d410333f6d70",
        "colab": {
          "base_uri": "https://localhost:8080/",
          "height": 71
        }
      },
      "source": [
        "overview, genres = next(iter(train_dataset))\n",
        "overview, genres"
      ],
      "execution_count": 96,
      "outputs": [
        {
          "output_type": "execute_result",
          "data": {
            "text/plain": [
              "(<tf.Tensor: shape=(), dtype=string, numpy=b'Christopher Walken shines in this cult-favorite dark comedy as Charlie, a former mobster who is abducted by five privileged young men (Sean Patrick Flanery, Johnny Galecki, Jay Mohr, Jeremy Sisto, Henry Thomas) desperate to raise a $2 million ransom to save the sister of a friend. As Charlie plays mind games, however, his captors splinter -- each wondering whether one of their own had a hand in the crime.'>,\n",
              " <tf.Tensor: shape=(5,), dtype=int32, numpy=array([1, 1, 1, 0, 1], dtype=int32)>)"
            ]
          },
          "metadata": {
            "tags": []
          },
          "execution_count": 96
        }
      ]
    },
    {
      "cell_type": "code",
      "metadata": {
        "id": "2oxLwKnr0tbl",
        "colab_type": "code",
        "colab": {}
      },
      "source": [
        "batch_size = 128\n",
        "shuffle_buffer_size = 1000"
      ],
      "execution_count": 0,
      "outputs": []
    },
    {
      "cell_type": "code",
      "metadata": {
        "id": "V_IE20b_0t0A",
        "colab_type": "code",
        "colab": {}
      },
      "source": [
        "train_dataset = train_dataset.shuffle(shuffle_buffer_size).repeat().batch(batch_size)\n",
        "validation_dataset = validation_dataset.shuffle(shuffle_buffer_size).batch(batch_size)\n",
        "test_dataset = test_dataset.shuffle(shuffle_buffer_size).batch(batch_size)"
      ],
      "execution_count": 0,
      "outputs": []
    },
    {
      "cell_type": "code",
      "metadata": {
        "id": "BcU8o1PI1zqP",
        "colab_type": "code",
        "outputId": "fbc56809-21ca-4c50-f19f-9a95e2197e16",
        "colab": {
          "base_uri": "https://localhost:8080/",
          "height": 34
        }
      },
      "source": [
        "overview, genres = next(iter(train_dataset))\n",
        "overview.shape, genres.shape"
      ],
      "execution_count": 99,
      "outputs": [
        {
          "output_type": "execute_result",
          "data": {
            "text/plain": [
              "(TensorShape([128]), TensorShape([128, 5]))"
            ]
          },
          "metadata": {
            "tags": []
          },
          "execution_count": 99
        }
      ]
    },
    {
      "cell_type": "markdown",
      "metadata": {
        "id": "QPb7_xPxl67a",
        "colab_type": "text"
      },
      "source": [
        "#Model"
      ]
    },
    {
      "cell_type": "code",
      "metadata": {
        "id": "IzaiqVjtm8-N",
        "colab_type": "code",
        "colab": {}
      },
      "source": [
        "epochs = 20\n",
        "train_steps = 10\n",
        "validation_steps = 5"
      ],
      "execution_count": 0,
      "outputs": []
    },
    {
      "cell_type": "markdown",
      "metadata": {
        "id": "8HmjQ8AIpOYR",
        "colab_type": "text"
      },
      "source": [
        "##Keras Layer"
      ]
    },
    {
      "cell_type": "code",
      "metadata": {
        "id": "QHSsA9C_pdyb",
        "colab_type": "code",
        "colab": {
          "base_uri": "https://localhost:8080/",
          "height": 1000
        },
        "outputId": "65ddd257-cc01-47a4-9cda-2f64a5ed5e8f"
      },
      "source": [
        "hub_layer = hub.KerasLayer(\"https://tfhub.dev/google/tf2-preview/nnlm-en-dim128/1\", \n",
        "                           output_shape=[128], input_shape=[], dtype=tf.string)\n",
        "\n",
        "model = Sequential([\n",
        "    hub_layer,\n",
        "    Dense(128, activation='relu'),  \n",
        "    Dense(CLASS_COUNT, activation='softmax'),\n",
        "])\n",
        "\n",
        "model.summary()\n",
        "\n",
        "model.compile(optimizer='adam',\n",
        "              loss='binary_crossentropy',\n",
        "              metrics=['accuracy'])\n",
        "\n",
        "history = model.fit(train_dataset,\n",
        "                    epochs=epochs,\n",
        "                    steps_per_epoch=train_steps,\n",
        "                    validation_data=validation_dataset,\n",
        "                    validation_steps=validation_steps\n",
        "                   )\n",
        "\n",
        "acc = history.history['accuracy']\n",
        "val_acc = history.history['val_accuracy']\n",
        "\n",
        "loss = history.history['loss']\n",
        "val_loss = history.history['val_loss']\n",
        "\n",
        "plt.figure(figsize=(10, 10))\n",
        "plt.subplot(2, 1, 1)\n",
        "plt.plot(acc, label='Training Accuracy')\n",
        "plt.plot(val_acc, label='Validation Accuracy')\n",
        "plt.legend(loc='lower right')\n",
        "plt.setp(plt.legend().get_texts(), color='black')\n",
        "plt.ylabel('Accuracy')\n",
        "plt.ylim([min(plt.ylim()),1.0])\n",
        "plt.title('Training and Validation Accuracy')\n",
        "\n",
        "plt.subplot(2, 1, 2)\n",
        "plt.plot(loss, label='Training Loss')\n",
        "plt.plot(val_loss, label='Validation Loss')\n",
        "plt.legend(loc='upper right')\n",
        "plt.setp(plt.legend().get_texts(), color='black')\n",
        "plt.ylabel('Cross Entropy')\n",
        "plt.ylim([0.0,1.0])\n",
        "plt.title('Training and Validation Loss')\n",
        "plt.xlabel('epoch')\n",
        "plt.show()"
      ],
      "execution_count": 101,
      "outputs": [
        {
          "output_type": "stream",
          "text": [
            "Model: \"sequential_2\"\n",
            "_________________________________________________________________\n",
            "Layer (type)                 Output Shape              Param #   \n",
            "=================================================================\n",
            "keras_layer_2 (KerasLayer)   (None, 128)               124642688 \n",
            "_________________________________________________________________\n",
            "dense_4 (Dense)              (None, 128)               16512     \n",
            "_________________________________________________________________\n",
            "dense_5 (Dense)              (None, 5)                 645       \n",
            "=================================================================\n",
            "Total params: 124,659,845\n",
            "Trainable params: 17,157\n",
            "Non-trainable params: 124,642,688\n",
            "_________________________________________________________________\n",
            "Train for 10 steps, validate for 5 steps\n",
            "Epoch 1/20\n",
            "10/10 [==============================] - 3s 278ms/step - loss: 0.6464 - accuracy: 0.6888 - val_loss: 0.6570 - val_accuracy: 0.6653\n",
            "Epoch 2/20\n",
            "10/10 [==============================] - 2s 249ms/step - loss: 0.6407 - accuracy: 0.6828 - val_loss: 0.6618 - val_accuracy: 0.6563\n",
            "Epoch 3/20\n",
            "10/10 [==============================] - 2s 247ms/step - loss: 0.6423 - accuracy: 0.6756 - val_loss: 0.6431 - val_accuracy: 0.6619\n",
            "Epoch 4/20\n",
            "10/10 [==============================] - 3s 254ms/step - loss: 0.6151 - accuracy: 0.6859 - val_loss: 0.6263 - val_accuracy: 0.6669\n",
            "Epoch 5/20\n",
            "10/10 [==============================] - 3s 254ms/step - loss: 0.6090 - accuracy: 0.6847 - val_loss: 0.6225 - val_accuracy: 0.6625\n",
            "Epoch 6/20\n",
            "10/10 [==============================] - 3s 252ms/step - loss: 0.6025 - accuracy: 0.6828 - val_loss: 0.6162 - val_accuracy: 0.6613\n",
            "Epoch 7/20\n",
            "10/10 [==============================] - 2s 247ms/step - loss: 0.5851 - accuracy: 0.6877 - val_loss: 0.5994 - val_accuracy: 0.6656\n",
            "Epoch 8/20\n",
            "10/10 [==============================] - 2s 249ms/step - loss: 0.5819 - accuracy: 0.6881 - val_loss: 0.6101 - val_accuracy: 0.6634\n",
            "Epoch 9/20\n",
            "10/10 [==============================] - 3s 252ms/step - loss: 0.5697 - accuracy: 0.6900 - val_loss: 0.5818 - val_accuracy: 0.6803\n",
            "Epoch 10/20\n",
            "10/10 [==============================] - 3s 251ms/step - loss: 0.5677 - accuracy: 0.6908 - val_loss: 0.5787 - val_accuracy: 0.6744\n",
            "Epoch 11/20\n",
            "10/10 [==============================] - 2s 248ms/step - loss: 0.5481 - accuracy: 0.7064 - val_loss: 0.5775 - val_accuracy: 0.6791\n",
            "Epoch 12/20\n",
            "10/10 [==============================] - 3s 252ms/step - loss: 0.5517 - accuracy: 0.7075 - val_loss: 0.5646 - val_accuracy: 0.6881\n",
            "Epoch 13/20\n",
            "10/10 [==============================] - 3s 254ms/step - loss: 0.5617 - accuracy: 0.7005 - val_loss: 0.5691 - val_accuracy: 0.6866\n",
            "Epoch 14/20\n",
            "10/10 [==============================] - 3s 254ms/step - loss: 0.5463 - accuracy: 0.7103 - val_loss: 0.5817 - val_accuracy: 0.6850\n",
            "Epoch 15/20\n",
            "10/10 [==============================] - 3s 250ms/step - loss: 0.5509 - accuracy: 0.7103 - val_loss: 0.5620 - val_accuracy: 0.6953\n",
            "Epoch 16/20\n",
            "10/10 [==============================] - 2s 250ms/step - loss: 0.5405 - accuracy: 0.7128 - val_loss: 0.5673 - val_accuracy: 0.6963\n",
            "Epoch 17/20\n",
            "10/10 [==============================] - 2s 250ms/step - loss: 0.5385 - accuracy: 0.7200 - val_loss: 0.5598 - val_accuracy: 0.6972\n",
            "Epoch 18/20\n",
            "10/10 [==============================] - 3s 255ms/step - loss: 0.5338 - accuracy: 0.7186 - val_loss: 0.5614 - val_accuracy: 0.7025\n",
            "Epoch 19/20\n",
            "10/10 [==============================] - 2s 249ms/step - loss: 0.5548 - accuracy: 0.7105 - val_loss: 0.5734 - val_accuracy: 0.6947\n",
            "Epoch 20/20\n",
            "10/10 [==============================] - 3s 257ms/step - loss: 0.5372 - accuracy: 0.7191 - val_loss: 0.5851 - val_accuracy: 0.6838\n"
          ],
          "name": "stdout"
        },
        {
          "output_type": "display_data",
          "data": {
            "image/png": "[encoded data removed]",
            "text/plain": [
              "<Figure size 720x720 with 2 Axes>"
            ]
          },
          "metadata": {
            "tags": []
          }
        }
      ]
    },
    {
      "cell_type": "code",
      "metadata": {
        "id": "Jq5BeXGtrgpG",
        "colab_type": "code",
        "colab": {
          "base_uri": "https://localhost:8080/",
          "height": 51
        },
        "outputId": "81d863ec-edd0-4861-f413-17c07043136f"
      },
      "source": [
        "test_loss, test_acc = model.evaluate(test_dataset, verbose=3)\n",
        "\n",
        "print('Loss:', test_loss)\n",
        "print('Accuracy:', test_acc)"
      ],
      "execution_count": 102,
      "outputs": [
        {
          "output_type": "stream",
          "text": [
            "Loss: 0.5343411905424935\n",
            "Accuracy: 0.7226967\n"
          ],
          "name": "stdout"
        }
      ]
    },
    {
      "cell_type": "code",
      "metadata": {
        "id": "dlm25pHIriGL",
        "colab_type": "code",
        "colab": {
          "base_uri": "https://localhost:8080/",
          "height": 156
        },
        "outputId": "e7cfc85e-a4df-4edf-f385-c76f27fc92af"
      },
      "source": [
        "features, labels = next(iter(test_dataset))\n",
        "\n",
        "test_index = np.random.randint(features.shape[0])\n",
        "test_input = features[test_index]\n",
        "test_label = labels[test_index]\n",
        "predictions = model.predict(tf.expand_dims(test_input, axis=0))\n",
        "\n",
        "expected_labels = np.array(CLASS_NAMES)[np.argwhere(test_label == 1)].flatten()\n",
        "\n",
        "predicted_labels = \"\"\n",
        "for i in (-predictions[0]).argsort()[:2]:\n",
        "  predicted_labels += CLASS_NAMES[i] + \" (\" + str(np.around(predictions[0][i], decimals=2)) + \")\\n\"\n",
        "\n",
        "print('Input',test_input)\n",
        "print('Expected labels',expected_labels)\n",
        "print('\\nTop 2 predicted labels are:\\n', predicted_labels)"
      ],
      "execution_count": 103,
      "outputs": [
        {
          "output_type": "stream",
          "text": [
            "Input tf.Tensor(b'Angela Bennett is a freelance software engineer who lives in a world of computer technology. When a cyber friend asks Bennett to debug a new game, she inadvertently becomes involved in a conspiracy that will soon turn her life upside down. While on vacation in Mexico, her purse is stolen. She soon finds that people and events may not be what they seem as she becomes the target of an assassination. Her vacation is ruined.  She gets a new passport at the U.S. Embassy in Mexico but it has the wrong name, Ruth Marx. When she returns to the U.S. to sort things out, she discovers that Ruth Marx has an unsavory past and a lengthy  police record. To make matters worse, another person has assumed her real identity ...', shape=(), dtype=string)\n",
            "Expected labels ['Drama' 'Thriller' 'Action']\n",
            "\n",
            "Top 2 predicted labels are:\n",
            " Thriller (0.48)\n",
            "Drama (0.23)\n",
            "\n"
          ],
          "name": "stdout"
        }
      ]
    },
    {
      "cell_type": "code",
      "metadata": {
        "id": "SJZc-0T3rlSH",
        "colab_type": "code",
        "colab": {
          "base_uri": "https://localhost:8080/",
          "height": 102
        },
        "outputId": "087b0671-7c7f-480f-8eee-8ed5232dd42d"
      },
      "source": [
        "test_input = \"The Imperial Forces -- under orders from cruel Darth Vader (David Prowse) -- hold Princess Leia (Carrie Fisher) hostage, in their efforts to quell the rebellion against the Galactic Empire. Luke Skywalker (Mark Hamill) and Han Solo (Harrison Ford), captain of the Millennium Falcon, work together with the companionable droid duo R2-D2 (Kenny Baker) and C-3PO (Anthony Daniels) to rescue the beautiful princess, help the Rebel Alliance, and restore freedom and justice to the Galaxy.\"\n",
        "predictions = model.predict(tf.expand_dims(test_input, axis=0))\n",
        "predicted_labels = \"\"\n",
        "for i in (-predictions[0]).argsort()[:2]:\n",
        "  predicted_labels += CLASS_NAMES[i] + \" (\" + str(np.around(predictions[0][i], decimals=2)) + \")\\n\"\n",
        "\n",
        "print('\\nTop 2 predicted labels are:\\n', predicted_labels)"
      ],
      "execution_count": 104,
      "outputs": [
        {
          "output_type": "stream",
          "text": [
            "\n",
            "Top 2 predicted labels are:\n",
            " Action (0.89)\n",
            "Comedy (0.04)\n",
            "\n"
          ],
          "name": "stdout"
        }
      ]
    }
  ]
}